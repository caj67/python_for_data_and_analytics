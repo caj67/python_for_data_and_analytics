{
 "cells": [
  {
   "cell_type": "markdown",
   "metadata": {
    "colab_type": "text",
    "id": "sHdFGq_L8xVW"
   },
   "source": [
    "## Python for Data Management and Analytics\n",
    "### Assignment 1"
   ]
  },
  {
   "cell_type": "markdown",
   "metadata": {
    "colab_type": "text",
    "id": "ly7NF3AV8xVa"
   },
   "source": [
    "**Task 1 (5 points)**\n",
    "\n",
    "* Consider the following list: nums = [1, 1, 2, 3, 5, 8, 13, 21, 34, 55, 89]\n",
    "* Write a program that:\n",
    "    1. Creates a new empty list called \"even\"\n",
    "    2. Populates the new list with values of all the elements from the first list (nums) that are even\n",
    "    3. Prints the contents of the second list\n",
    "\n",
    "* Note: You must use a _for_ loop, a modulus, and an _if_ statement to solve this problem"
   ]
  },
  {
   "cell_type": "code",
   "execution_count": 1,
   "metadata": {
    "colab": {},
    "colab_type": "code",
    "id": "KLg-Qola8xVc"
   },
   "outputs": [
    {
     "name": "stdout",
     "output_type": "stream",
     "text": [
      "[2, 8, 34]\n"
     ]
    }
   ],
   "source": [
    "# Task 1 solution\n",
    "# Complete your solution below\n",
    "nums = [1, 1, 2, 3, 5, 8, 13, 21, 34, 55, 89]\n",
    "even = []\n",
    "\n",
    "for num in  nums:\n",
    "    if num % 2 == 0:\n",
    "        even.append(num)\n",
    "print(even)\n",
    "\n"
   ]
  },
  {
   "cell_type": "markdown",
   "metadata": {
    "colab_type": "text",
    "id": "dGxsqjGo8xVk"
   },
   "source": [
    "**Task 2 (5 points)**\n",
    "* Consider the following two lists:\n",
    "    1. list_a = [1, 1, 2, 3, 5, 8, 13, 21, 34, 55, 89]\n",
    "    2. list_b = [1, 2, 3, 4, 5, 6, 7, 8, 9, 10, 11, 12, 13]\n",
    "* Write a program that:\n",
    "    1. Creates a new list called \"overlap\"\n",
    "    2. Iterates through _list_a_ and _list_b_\n",
    "    3. Finds operlaps (numbers that occur in both lists)\n",
    "    4. Stores the overlapping numbers in the \"overlap\" list\n",
    "    5. Prints the \"overlap\" list"
   ]
  },
  {
   "cell_type": "code",
   "execution_count": 4,
   "metadata": {
    "colab": {},
    "colab_type": "code",
    "id": "iJN-KJ5r8xVl"
   },
   "outputs": [
    {
     "name": "stdout",
     "output_type": "stream",
     "text": [
      "[1, 1, 2, 3, 5, 8, 13]\n"
     ]
    }
   ],
   "source": [
    "# Task 2 solution\n",
    "list_a = [1, 1, 2, 3, 5, 8, 13, 21, 34, 55, 89]\n",
    "list_b = [1, 2, 3, 4, 5, 6, 7, 8, 9, 10, 11, 12, 13]\n",
    "overlap = []\n",
    "\n",
    "for i in list_a:\n",
    "    for j in list_b:\n",
    "        if i == j:\n",
    "            overlap.append(i)\n",
    "print(overlap)\n",
    "\n",
    "# Complete your solution below"
   ]
  },
  {
   "cell_type": "markdown",
   "metadata": {
    "colab_type": "text",
    "id": "ZP_er2ci8xVp"
   },
   "source": [
    "**Task 3 (10 points)**\n",
    "\n",
    "* Write a program that asks the user how many Fibonnaci numbers to generate and then generates them. \n",
    "* Do not write custom Python functions and do not use recursion.  You should be able to accomplish this task with a single list and a single loop\n",
    "* You can initialize the list of Fibonnaci numbers with the first two elements. Example: fib = [1, 1]\n",
    "* Before each line of code in your solution, provide a comment explaining what each step does!\n",
    "* _Hint_: Do not forget to convert user input from a string to an integer (remember typecasting)"
   ]
  },
  {
   "cell_type": "code",
   "execution_count": 15,
   "metadata": {
    "colab": {},
    "colab_type": "code",
    "id": "Xsq3IurS8xVq"
   },
   "outputs": [
    {
     "name": "stdout",
     "output_type": "stream",
     "text": [
      "How many Fibonacci numbers would you like to generate? 15\n",
      "[1, 1, 2, 3, 5, 8, 13, 21, 34, 55, 89, 144, 233, 377, 610]\n"
     ]
    }
   ],
   "source": [
    "# Task 3 solution\n",
    "# Complete your solution below\n",
    "\n",
    "fib = [1,1]\n",
    "\n",
    "#takes user input\n",
    "user_input = int(input(\"How many Fibonacci numbers would you like to generate? \"))\n",
    "#fibonacci sequence generates the next number from the sum of the previous 2\n",
    "\n",
    "# need to start at 2 and go until we reach the number the user specifies\n",
    "for i in range(2, user_input): #got range function from w3schools\n",
    "    #add the calculated result to the list\n",
    "    fib.append(fib[i - 2] + fib[i - 1])\n",
    "#print\n",
    "print(fib)\n",
    "\n"
   ]
  },
  {
   "cell_type": "markdown",
   "metadata": {
    "colab_type": "text",
    "id": "y4gPKAGR8xVu"
   },
   "source": [
    "**Task 4 (30 points)**\n",
    "* Write a program that:\n",
    "    * Asks the user to enter a message (a word or a sentence)\n",
    "    * Creates a simple shift cypher that shifts letters by 3.  In other words, A becomes D, V becomes Y, and Z becomes C.\n",
    "    * For the purposes of this assignment:\n",
    "        * You can start with a hardcoded list of letters\n",
    "        * Make the cypher case-insensitive (you can convert user input to lower case)\n",
    "    * Print the original and the encrypted messages\n",
    "    * Before each line of code in your solution, provide a comment explaining what each step does!"
   ]
  },
  {
   "cell_type": "code",
   "execution_count": 24,
   "metadata": {
    "colab": {},
    "colab_type": "code",
    "id": "IMHrP0I18xVv"
   },
   "outputs": [
    {
     "name": "stdout",
     "output_type": "stream",
     "text": [
      "Enter a message! It can be a word or sentence. I'll encrypt it! x\n",
      "Your orginal message was: x\n",
      "Your encrypted message is : a\n"
     ]
    }
   ],
   "source": [
    "# Task 4 solution\n",
    "\n",
    "# All letters in the English alphabet\n",
    "alphabet = ['a','b','c','d','e','f','g','h','i','j','k','l','m','n','o','p','q','r','s','t','u','v','w','x','y','z']\n",
    "\n",
    "# Encrypted string will be stored in \"result\"\n",
    "result = \"\"\n",
    "\n",
    "# How many letters the cypher will shift by\n",
    "shift = 3\n",
    "\n",
    "\n",
    "# Complete your solution below\n",
    "#get user input\n",
    "user_input = input(\"Enter a message! It can be a word or sentence. I'll encrypt it! \")\n",
    "#make it lowercase\n",
    "lower_input = user_input.lower()\n",
    "#for every letter in the string\n",
    "for letter in lower_input:\n",
    "    #check for extraneous punctuation, this can give away a  cypher easily if there are a bunch of #!|\\ type characters\n",
    "    if (ord(letter) > 96 and ord(letter) < 123):\n",
    "        #cypher has to wrap around so check for the 3 cases in which it needs to\n",
    "        if (ord(letter) > 119):\n",
    "            #perform subtration to wrap around properly if we hit that case\n",
    "            current = chr(97 + ord(letter) - 120)\n",
    "        else:\n",
    "            #otherwise just add 3 to it\n",
    "            current = chr(ord(letter) + 3)\n",
    "        #apped the encyrped character to the result\n",
    "        result += current\n",
    "        \n",
    "            \n",
    "\n",
    "#print original message\n",
    "print(\"Your orginal message was: \" + user_input)    \n",
    "#print encrypted message\n",
    "print(\"Your encrypted message is : \" + result)\n",
    "\n",
    "\n",
    "\n"
   ]
  },
  {
   "cell_type": "code",
   "execution_count": null,
   "metadata": {
    "colab": {},
    "colab_type": "code",
    "id": "WBxhLmno8xV0"
   },
   "outputs": [],
   "source": []
  },
  {
   "cell_type": "code",
   "execution_count": null,
   "metadata": {},
   "outputs": [],
   "source": []
  }
 ],
 "metadata": {
  "colab": {
   "name": "Assignment 1 - Basic Python.ipynb",
   "provenance": []
  },
  "kernelspec": {
   "display_name": "Python 3",
   "language": "python",
   "name": "python3"
  },
  "language_info": {
   "codemirror_mode": {
    "name": "ipython",
    "version": 3
   },
   "file_extension": ".py",
   "mimetype": "text/x-python",
   "name": "python",
   "nbconvert_exporter": "python",
   "pygments_lexer": "ipython3",
   "version": "3.8.3"
  }
 },
 "nbformat": 4,
 "nbformat_minor": 1
}
